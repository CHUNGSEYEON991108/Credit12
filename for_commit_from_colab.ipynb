{
  "nbformat": 4,
  "nbformat_minor": 0,
  "metadata": {
    "colab": {
      "provenance": [],
      "include_colab_link": true
    },
    "kernelspec": {
      "name": "python3",
      "display_name": "Python 3"
    },
    "language_info": {
      "name": "python"
    }
  },
  "cells": [
    {
      "cell_type": "markdown",
      "metadata": {
        "id": "view-in-github",
        "colab_type": "text"
      },
      "source": [
        "<a href=\"https://colab.research.google.com/github/CHUNGSEYEON991108/Credit12/blob/main/for_commit_from_colab.ipynb\" target=\"_parent\"><img src=\"https://colab.research.google.com/assets/colab-badge.svg\" alt=\"Open In Colab\"/></a>"
      ]
    },
    {
      "cell_type": "markdown",
      "source": [
        "#module"
      ],
      "metadata": {
        "id": "s_1-IrBh_7lJ"
      }
    },
    {
      "cell_type": "code",
      "source": [
        "import pandas as pd\n",
        "import numpy as np\n",
        "from sklearn.model_selection import StratifiedKFold\n",
        "import tensorflow as tf\n",
        "import matplotlib as plt"
      ],
      "metadata": {
        "id": "lptkwNmQAAxs"
      },
      "execution_count": null,
      "outputs": []
    },
    {
      "cell_type": "markdown",
      "source": [
        "# Data Load"
      ],
      "metadata": {
        "id": "pFk_gD2HABpg"
      }
    },
    {
      "cell_type": "code",
      "source": [
        "data = pd.read_csv('')"
      ],
      "metadata": {
        "id": "fTu4KJn-AEOs"
      },
      "execution_count": null,
      "outputs": []
    },
    {
      "cell_type": "markdown",
      "source": [
        "# Train, Test 분리"
      ],
      "metadata": {
        "id": "mWz6D6RJAGRf"
      }
    },
    {
      "cell_type": "code",
      "source": [],
      "metadata": {
        "id": "asGz4GDjAKm5"
      },
      "execution_count": null,
      "outputs": []
    },
    {
      "cell_type": "markdown",
      "source": [
        "# Train, Test 시각화"
      ],
      "metadata": {
        "id": "LErZh-rzALIM"
      }
    },
    {
      "cell_type": "code",
      "source": [],
      "metadata": {
        "id": "_X86eTF3AM6f"
      },
      "execution_count": null,
      "outputs": []
    },
    {
      "cell_type": "markdown",
      "source": [
        "# Hyperparameter"
      ],
      "metadata": {
        "id": "2hsY5fQiAPuV"
      }
    },
    {
      "cell_type": "code",
      "source": [
        "learning_rate=0.01 #시시각각 변하게 할 수 있다.(코드공부필요)\n",
        "은닉층개수\n",
        "배치크기\n",
        "반복횟수\n",
        "손실함수\n",
        "가중치 초기화\n",
        "drop_out=0.1 #숫자는 계속 수정해보면서 최적의 결과 도출해내기"
      ],
      "metadata": {
        "id": "V2WgMW7nARPi"
      },
      "execution_count": null,
      "outputs": []
    },
    {
      "cell_type": "markdown",
      "source": [
        "# model 구축"
      ],
      "metadata": {
        "id": "P8FKcuHjAYSI"
      }
    },
    {
      "cell_type": "code",
      "source": [],
      "metadata": {
        "id": "sVXIEz51AY6B"
      },
      "execution_count": null,
      "outputs": []
    },
    {
      "cell_type": "markdown",
      "source": [
        "# Training"
      ],
      "metadata": {
        "id": "E-FFdlFTAdRZ"
      }
    },
    {
      "cell_type": "code",
      "source": [],
      "metadata": {
        "id": "bFIfY0DdAfpJ"
      },
      "execution_count": null,
      "outputs": []
    },
    {
      "cell_type": "markdown",
      "source": [
        "# Test"
      ],
      "metadata": {
        "id": "cC3YoLyNAhBR"
      }
    },
    {
      "cell_type": "code",
      "source": [],
      "metadata": {
        "id": "u_JiOM4KAhnB"
      },
      "execution_count": null,
      "outputs": []
    },
    {
      "cell_type": "markdown",
      "source": [
        "# accuracy 검증\n"
      ],
      "metadata": {
        "id": "Z6Ul0cPfAlKe"
      }
    },
    {
      "cell_type": "code",
      "source": [
        "# confusion_matrics\n",
        "# ROC(필요하면 쓰기)"
      ],
      "metadata": {
        "id": "a2DUMTfYAnWm"
      },
      "execution_count": null,
      "outputs": []
    },
    {
      "cell_type": "markdown",
      "source": [
        "# Visualization"
      ],
      "metadata": {
        "id": "yWyj9-mlAoze"
      }
    },
    {
      "cell_type": "code",
      "source": [],
      "metadata": {
        "id": "7L4uu3gOApyS"
      },
      "execution_count": null,
      "outputs": []
    }
  ]
}