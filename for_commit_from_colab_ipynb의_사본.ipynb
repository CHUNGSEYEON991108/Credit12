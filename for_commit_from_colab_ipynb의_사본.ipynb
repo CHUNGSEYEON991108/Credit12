{
  "nbformat": 4,
  "nbformat_minor": 0,
  "metadata": {
    "colab": {
      "provenance": [],
      "authorship_tag": "ABX9TyMQzpLtAQUpuULhxdpuoeYT",
      "include_colab_link": true
    },
    "kernelspec": {
      "name": "python3",
      "display_name": "Python 3"
    },
    "language_info": {
      "name": "python"
    }
  },
  "cells": [
    {
      "cell_type": "markdown",
      "metadata": {
        "id": "view-in-github",
        "colab_type": "text"
      },
      "source": [
        "<a href=\"https://colab.research.google.com/github/CHUNGSEYEON991108/Credit12/blob/main/for_commit_from_colab_ipynb%EC%9D%98_%EC%82%AC%EB%B3%B8.ipynb\" target=\"_parent\"><img src=\"https://colab.research.google.com/assets/colab-badge.svg\" alt=\"Open In Colab\"/></a>"
      ]
    },
    {
      "cell_type": "code",
      "execution_count": null,
      "metadata": {
        "id": "IMv4BydGEOLx",
        "colab": {
          "base_uri": "https://localhost:8080/"
        },
        "outputId": "242915cb-d13d-4d28-ede8-08a3f9542b85"
      },
      "outputs": [
        {
          "output_type": "stream",
          "name": "stdout",
          "text": [
            "Hello, World!\n"
          ]
        }
      ],
      "source": [
        "# 간단한 텍스트 출력\n",
        "print(\"Hello, World!\")"
      ]
    }
  ]
}